{
 "cells": [
  {
   "cell_type": "markdown",
   "source": [
    "# Data Handling"
   ],
   "metadata": {
    "collapsed": false
   }
  },
  {
   "cell_type": "markdown",
   "source": [
    "In it's current state, the data we have will be difficult to work with. As concluded from our exploratory data analysis [.........]\n",
    "\n",
    "The greatest initial obstacle facing our models will be the large amount of missing data,\n",
    "We can run an analysis to further look into this"
   ],
   "metadata": {
    "collapsed": false
   }
  },
  {
   "cell_type": "code",
   "execution_count": 1,
   "outputs": [],
   "source": [
    "import pandas as pd\n",
    "import numpy as np\n",
    "from sklearn.impute import SimpleImputer\n",
    "train = pd.read_csv(\"Dataset/new_train.csv\")"
   ],
   "metadata": {
    "collapsed": false
   }
  },
  {
   "cell_type": "code",
   "execution_count": 2,
   "outputs": [
    {
     "name": "stdout",
     "output_type": "stream",
     "text": [
      "Variable ps_ind_02_cat has 154 records (0.03%) with missing values\n",
      "Variable ps_ind_04_cat has 62 records (0.01%) with missing values\n",
      "Variable ps_ind_05_cat has 4344 records (0.97%) with missing values\n",
      "Variable ps_reg_03 has 80734 records (18.09%) with missing values\n",
      "Variable ps_car_01_cat has 78 records (0.02%) with missing values\n",
      "Variable ps_car_02_cat has 2 records (0.00%) with missing values\n",
      "Variable ps_car_03_cat has 308561 records (69.12%) with missing values\n",
      "Variable ps_car_05_cat has 200191 records (44.84%) with missing values\n",
      "Variable ps_car_07_cat has 8563 records (1.92%) with missing values\n",
      "Variable ps_car_09_cat has 420 records (0.09%) with missing values\n",
      "Variable ps_car_11 has 2 records (0.00%) with missing values\n",
      "Variable ps_car_12 has 1 records (0.00%) with missing values\n",
      "Variable ps_car_14 has 31843 records (7.13%) with missing values\n",
      "In total, there are 13 variables with missing values\n"
     ]
    }
   ],
   "source": [
    "vars_with_missing = []\n",
    "\n",
    "for f in train.columns:\n",
    "    missings = train[train[f] == -1][f].count()\n",
    "    if missings > 0:\n",
    "        vars_with_missing.append(f)\n",
    "        missings_perc = missings / train.shape[0]\n",
    "\n",
    "        print('Variable {} has {} records ({:.2%}) with missing values'.format(f, missings, missings_perc))\n",
    "\n",
    "print('In total, there are {} variables with missing values'.format(len(vars_with_missing)))"
   ],
   "metadata": {
    "collapsed": false
   }
  },
  {
   "cell_type": "markdown",
   "source": [
    "Variables ps_car_03_cat and ps_car_05_cat stand out to us as having a significant proportion of missing data.\n",
    "It therefore feels justified to remove these columns, since it doesn't appear to contain meaningful information therefore removing will not bias our results. further analysis could be done into if a missing value in these columns might have any correlation to our target, but at this stage of time it seems best to remove the columns"
   ],
   "metadata": {
    "collapsed": false
   }
  },
  {
   "cell_type": "code",
   "execution_count": null,
   "outputs": [],
   "source": [
    "def dropmissingcol(pdData):\n",
    "    vars_to_drop = ['ps_car_03_cat', 'ps_car_05_cat']\n",
    "    pdData.drop(vars_to_drop, inplace=True, axis=1)\n",
    "    return pdData"
   ],
   "metadata": {
    "collapsed": false
   }
  },
  {
   "cell_type": "markdown",
   "source": [
    "07447487005\n",
    "\n",
    "9am - 2pm\n"
   ],
   "metadata": {
    "collapsed": false
   }
  }
 ],
 "metadata": {
  "kernelspec": {
   "display_name": "Python 3",
   "language": "python",
   "name": "python3"
  },
  "language_info": {
   "codemirror_mode": {
    "name": "ipython",
    "version": 2
   },
   "file_extension": ".py",
   "mimetype": "text/x-python",
   "name": "python",
   "nbconvert_exporter": "python",
   "pygments_lexer": "ipython2",
   "version": "2.7.6"
  }
 },
 "nbformat": 4,
 "nbformat_minor": 0
}
