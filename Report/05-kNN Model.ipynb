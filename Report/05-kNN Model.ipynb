{
 "cells": [
  {
   "cell_type": "markdown",
   "id": "801995af",
   "metadata": {},
   "source": [
    "# kNN Model"
   ]
  },
  {
   "cell_type": "markdown",
   "id": "278aea01",
   "metadata": {},
   "source": [
    "For this project, I have tested the performance of kNN with k = 1, 3, 5 on the training data set. It turns out it is not working really well on this data set, as the auc score is very close to 0.5 even with increasing of k, which means the predictions we get from the model is not much better than guessing. This is due to the imbalanced classes of target, this dataset has more than 96% of zeros in the targets."
   ]
  },
  {
   "cell_type": "markdown",
   "id": "81642e4a",
   "metadata": {},
   "source": [
    "In my experiment I have tried the bagging and resampling strategies to impprove my kNN model, however kNN model is not very suitable for bagging and boosting, as it is too stable when k is bigger than 1, I have tried bagging with 1-NN model however it doesn't improve much. I have compared over-sampling and under-sampling, I found out under-sampling works a little bit better than oversampling, I think that this is because the size of our data set is huge, so lossing information is better than adding noise to our modelling."
   ]
  },
  {
   "cell_type": "markdown",
   "id": "5f9c8164",
   "metadata": {},
   "source": [
    "In this file, I will include my result of kNN models trainned on full train dataset and on the under-sampling train dataset. I will choose the one trainned on the under-sampling dataset as my submission model."
   ]
  },
  {
   "cell_type": "code",
   "execution_count": 5,
   "id": "7e4c4de4",
   "metadata": {},
   "outputs": [],
   "source": [
    "import pandas as pd\n",
    "import numpy as np\n",
    "import math\n",
    "import matplotlib.pyplot as plt\n",
    "from sklearn.preprocessing import StandardScaler #for standardizing data\n",
    "from sklearn.neighbors import KNeighborsClassifier\n",
    "from sklearn.metrics import  roc_curve,auc, accuracy_score, confusion_matrix\n",
    "from math import ceil\n",
    "from sklearn.ensemble import BaggingClassifier,RandomForestClassifier\n",
    "from sklearn.model_selection import StratifiedKFold, train_test_split,cross_val_score,cross_val_predict\n",
    "from numba import jit\n",
    "import time"
   ]
  },
  {
   "cell_type": "code",
   "execution_count": 2,
   "id": "d654c299",
   "metadata": {},
   "outputs": [],
   "source": [
    "@jit\n",
    "def gini(y_true, y_prob):\n",
    "    y_true = np.asarray(y_true)\n",
    "    y_true = y_true[np.argsort(y_prob)]\n",
    "    ntrue = 0\n",
    "    gini = 0\n",
    "    delta = 0\n",
    "    n = len(y_true)\n",
    "    for i in range(n-1, -1, -1):\n",
    "        y_i = y_true[i]\n",
    "        ntrue += y_i\n",
    "        gini += y_i * delta\n",
    "        delta += 1 - y_i\n",
    "    gini = 1 - 2 * gini / (ntrue * (n - ntrue))\n",
    "    return gini"
   ]
  },
  {
   "cell_type": "markdown",
   "id": "11de066d",
   "metadata": {},
   "source": [
    "### Import the train and test data sets."
   ]
  },
  {
   "cell_type": "code",
   "execution_count": 4,
   "id": "7e60bb6b",
   "metadata": {},
   "outputs": [],
   "source": [
    "train = pd.read_csv('C:/Users/nd19620/OneDrive - University of Bristol/DST/DST_Assessment1/Xinyue Guan/Data/imputetrain.csv')\n",
    "test = pd.read_csv('C:/Users/nd19620/OneDrive - University of Bristol/DST/DST_Assessment1/Xinyue Guan/Data/New_test.csv')"
   ]
  },
  {
   "cell_type": "code",
   "execution_count": 10,
   "id": "66ee039f",
   "metadata": {},
   "outputs": [
    {
     "data": {
      "text/plain": [
       "0.9637216095553629"
      ]
     },
     "execution_count": 10,
     "metadata": {},
     "output_type": "execute_result"
    }
   ],
   "source": [
    "(train['target']==0).sum()/train.shape[0] #percentage of zeros in our labels"
   ]
  },
  {
   "cell_type": "markdown",
   "id": "848e01ed",
   "metadata": {},
   "source": [
    "### Performance of Basic kNN Models"
   ]
  },
  {
   "cell_type": "code",
   "execution_count": null,
   "id": "5070e9ee",
   "metadata": {},
   "outputs": [],
   "source": [
    "y_train = train['target'].values\n",
    "id_train = train['id'].values\n",
    "X_train = train.drop(['target', 'id'], axis=1)\n",
    "\n",
    "id_test = test['id'].values\n",
    "X_test = test.drop(['target','id'], axis=1)\n",
    "y_test = test['target'].values\n",
    "\n",
    "X_train = pd.DataFrame(X_train)\n",
    "X_test = pd.DataFrame(X_test)\n",
    "y_train1=y_train.ravel()"
   ]
  },
  {
   "cell_type": "code",
   "execution_count": null,
   "id": "d5ef20bd",
   "metadata": {},
   "outputs": [],
   "source": [
    "scaler = StandardScaler()\n",
    "scaled_train0= scaler.fit_transform(X_train)\n",
    "X_train = pd.DataFrame(scaled_train0, columns=X_train.columns)\n",
    "scaled_test0 = scaler.fit_transform(X_test)\n",
    "X_test = pd.DataFrame(scaled_test0, columns=X_test.columns)"
   ]
  },
  {
   "cell_type": "code",
   "execution_count": null,
   "id": "756aa6fb",
   "metadata": {},
   "outputs": [],
   "source": [
    "cv = StratifiedKFold(n_splits=5, random_state=0, shuffle=True)\n",
    "pred_test_full = np.zeros(ceil(4*len(id_train)/5))\n",
    "knn_model1 = KNeighborsClassifier(n_neighbors=1)\n",
    "knn_model3 = KNeighborsClassifier(n_neighbors=3)\n",
    "knn_model5 = KNeighborsClassifier(n_neighbors=5)"
   ]
  },
  {
   "cell_type": "markdown",
   "id": "2a1605ec",
   "metadata": {},
   "source": [
    "The scores of 5-fold cross validation takes a long time to run, so I have plotted my result below."
   ]
  },
  {
   "cell_type": "code",
   "execution_count": null,
   "id": "f34e042e",
   "metadata": {},
   "outputs": [],
   "source": [
    "t0 = time.time()\n",
    "predicts = cross_val_predict(knn_model1, X_train, y_train1, cv=cv, n_jobs=-1)\n",
    "auc_scores1 = []\n",
    "gini_scores1 = []\n",
    "for i in range(5):\n",
    "    fpr, tpr, threshold = roc_curve(y_test,predicts[,i])\n",
    "    auc_scores1.append(auc(fpr, tpr))\n",
    "    gini_scores1.append(gini(y_test,predicts[,i]))\n",
    "auc_scores1.to_csv('1NN_5-fold_cv_auc_scores.csv')\n",
    "gini_scores1.to_csv('1NN_5-fold_cv_gini_scores.csv')\n",
    "t1 = time.time()\n",
    "\n",
    "runtime = t1-t0\n",
    "print(runtime)"
   ]
  },
  {
   "cell_type": "code",
   "execution_count": null,
   "id": "2322d00e",
   "metadata": {},
   "outputs": [],
   "source": [
    "scores3 = cross_val_score(knn_model3, X_train, y_train1, scoring='roc_auc', cv=cv, n_jobs=-1)"
   ]
  },
  {
   "cell_type": "code",
   "execution_count": null,
   "id": "f1ef1416",
   "metadata": {},
   "outputs": [],
   "source": [
    "scores5 = cross_val_score(knn_model5, X_train, y_train1, scoring='roc_auc', cv=cv, n_jobs=-1)"
   ]
  },
  {
   "cell_type": "markdown",
   "id": "51e645ae",
   "metadata": {},
   "source": [
    "### Under Sampling for Train Set\n",
    "After experimenting wiht"
   ]
  },
  {
   "cell_type": "code",
   "execution_count": 4,
   "id": "b6c57568",
   "metadata": {},
   "outputs": [],
   "source": [
    "count_class_0, count_class_1 = train.target.value_counts()\n",
    "df_class_0 = train[train['target'] == 0]\n",
    "df_class_1 = train[train['target'] == 1]"
   ]
  },
  {
   "cell_type": "code",
   "execution_count": null,
   "id": "4ea1f981",
   "metadata": {},
   "outputs": [],
   "source": [
    "df_class_0_under = df_class_0.sample(count_class_1)\n",
    "train_under = pd.concat([df_class_0_under, df_class_1], axis=0)"
   ]
  }
 ],
 "metadata": {
  "kernelspec": {
   "display_name": "Python 3 (ipykernel)",
   "language": "python",
   "name": "python3"
  },
  "language_info": {
   "codemirror_mode": {
    "name": "ipython",
    "version": 3
   },
   "file_extension": ".py",
   "mimetype": "text/x-python",
   "name": "python",
   "nbconvert_exporter": "python",
   "pygments_lexer": "ipython3",
   "version": "3.9.12"
  }
 },
 "nbformat": 4,
 "nbformat_minor": 5
}
