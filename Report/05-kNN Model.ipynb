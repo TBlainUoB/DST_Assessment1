{
 "cells": [
  {
   "cell_type": "markdown",
   "id": "9090e901",
   "metadata": {},
   "source": [
    "# kNN Model"
   ]
  },
  {
   "cell_type": "markdown",
   "id": "c7689d87",
   "metadata": {},
   "source": [
    "For this project, I have tested the performance of kNN with k = 1, 3, 5 on the training data set. It turns out it is not working really well on this data set, as the auc score is very close to 0.5 even with increasing of k, which means the predictions we get from the model is not much better than guessing. This is due to the imbalanced classes of target, this dataset has more than 96% of zeros in the targets."
   ]
  },
  {
   "cell_type": "markdown",
   "id": "4260bb3b",
   "metadata": {},
   "source": [
    "In my experiment I have tried the bagging and resampling strategies to impprove my kNN model, however kNN model is not very suitable for bagging and boosting, as it is too stable when k is bigger than 1, I have tried bagging with 1-NN model however it doesn't improve much. I have compared over-sampling and under-sampling, I found out under-sampling works a little bit better than oversampling, I think that this is because the size of our data set is huge, so lossing information is better than adding noise to our modelling."
   ]
  },
  {
   "cell_type": "markdown",
   "id": "6794b481",
   "metadata": {},
   "source": [
    "In this file, I will include my result of kNN models trainned on full train dataset and on the under-sampled train dataset. I will choose the one trainned on the under-sampling dataset as my submission model."
   ]
  },
  {
   "cell_type": "code",
   "execution_count": 1,
   "id": "7e4c4de4",
   "metadata": {},
   "outputs": [],
   "source": [
    "import pandas as pd\n",
    "import numpy as np\n",
    "import math\n",
    "import matplotlib.pyplot as plt\n",
    "from sklearn.preprocessing import StandardScaler #for standardizing data\n",
    "from sklearn.neighbors import KNeighborsClassifier\n",
    "from sklearn.metrics import  roc_curve,auc, accuracy_score, confusion_matrix\n",
    "from math import ceil\n",
    "from sklearn.ensemble import BaggingClassifier,RandomForestClassifier\n",
    "from sklearn.model_selection import StratifiedKFold, train_test_split,cross_val_score,cross_val_predict\n",
    "from numba import jit\n",
    "import time"
   ]
  },
  {
   "cell_type": "code",
   "execution_count": 2,
   "id": "d654c299",
   "metadata": {},
   "outputs": [],
   "source": [
    "@jit\n",
    "def gini(y_true, y_prob):\n",
    "    y_true = np.asarray(y_true)\n",
    "    y_true = y_true[np.argsort(y_prob)]\n",
    "    ntrue = 0\n",
    "    gini = 0\n",
    "    delta = 0\n",
    "    n = len(y_true)\n",
    "    for i in range(n-1, -1, -1):\n",
    "        y_i = y_true[i]\n",
    "        ntrue += y_i\n",
    "        gini += y_i * delta\n",
    "        delta += 1 - y_i\n",
    "    gini = 1 - 2 * gini / (ntrue * (n - ntrue))\n",
    "    return gini"
   ]
  },
  {
   "cell_type": "markdown",
   "id": "11de066d",
   "metadata": {},
   "source": [
    "## Import the train and test data sets."
   ]
  },
  {
   "cell_type": "code",
   "execution_count": 3,
   "id": "7e60bb6b",
   "metadata": {},
   "outputs": [],
   "source": [
    "train = pd.read_csv('C:/Users/nd19620/OneDrive - University of Bristol/DST/DST_Assessment1/Xinyue Guan/Data/imputetrain.csv')\n",
    "test = pd.read_csv('C:/Users/nd19620/OneDrive - University of Bristol/DST/DST_Assessment1/Xinyue Guan/Data/New_test.csv')"
   ]
  },
  {
   "cell_type": "code",
   "execution_count": 4,
   "id": "124f59d2",
   "metadata": {},
   "outputs": [
    {
     "data": {
      "text/plain": [
       "0.9637216095553629"
      ]
     },
     "execution_count": 4,
     "metadata": {},
     "output_type": "execute_result"
    }
   ],
   "source": [
    "(train['target']==0).sum()/train.shape[0] #percentage of zeros in our labels"
   ]
  },
  {
   "cell_type": "markdown",
   "id": "848e01ed",
   "metadata": {},
   "source": [
    "## kNN models with full train data set"
   ]
  },
  {
   "cell_type": "code",
   "execution_count": 5,
   "id": "5070e9ee",
   "metadata": {},
   "outputs": [],
   "source": [
    "y_train = train['target'].values\n",
    "id_train = train['id'].values\n",
    "X_train = train.drop(['target', 'id'], axis=1)\n",
    "\n",
    "id_test = test['id'].values\n",
    "X_test = test.drop(['target','id'], axis=1)\n",
    "y_test = test['target'].values\n",
    "\n",
    "X_train = pd.DataFrame(X_train)\n",
    "X_test = pd.DataFrame(X_test)\n",
    "y_train=y_train.ravel()"
   ]
  },
  {
   "cell_type": "code",
   "execution_count": 6,
   "id": "d5ef20bd",
   "metadata": {},
   "outputs": [],
   "source": [
    "scaler = StandardScaler()\n",
    "scaled_train0= scaler.fit_transform(X_train)\n",
    "X_train = pd.DataFrame(scaled_train0, columns=X_train.columns)\n",
    "scaled_test0 = scaler.fit_transform(X_test)\n",
    "X_test = pd.DataFrame(scaled_test0, columns=X_test.columns)"
   ]
  },
  {
   "cell_type": "code",
   "execution_count": 38,
   "id": "756aa6fb",
   "metadata": {},
   "outputs": [],
   "source": [
    "cv = StratifiedKFold(n_splits=5, random_state=0, shuffle=True)\n",
    "knn_model1 = KNeighborsClassifier(n_neighbors=1)\n",
    "knn_model3 = KNeighborsClassifier(n_neighbors=3)\n",
    "knn_model5 = KNeighborsClassifier(n_neighbors=5)"
   ]
  },
  {
   "cell_type": "markdown",
   "id": "2a1605ec",
   "metadata": {},
   "source": [
    "The scores of 5-fold cross validation takes a long time to run, so I have plotted my result below. Warning: it will take long to run the scores codes below, you can choose to read the cvs file instead."
   ]
  },
  {
   "cell_type": "code",
   "execution_count": null,
   "id": "f34e042e",
   "metadata": {},
   "outputs": [],
   "source": [
    "scores1 = cross_val_score(knn_model1, X_train, y_train, scoring='roc_auc', cv=cv, n_jobs=-1)"
   ]
  },
  {
   "cell_type": "code",
   "execution_count": null,
   "id": "2322d00e",
   "metadata": {},
   "outputs": [],
   "source": [
    "scores3 = cross_val_score(knn_model3, X_train, y_train, scoring='roc_auc', cv=cv, n_jobs=-1)"
   ]
  },
  {
   "cell_type": "code",
   "execution_count": null,
   "id": "f1ef1416",
   "metadata": {},
   "outputs": [],
   "source": [
    "scores5 = cross_val_score(knn_model5, X_train, y_train, scoring='roc_auc', cv=cv, n_jobs=-1)"
   ]
  },
  {
   "cell_type": "code",
   "execution_count": 27,
   "id": "6097f69c",
   "metadata": {},
   "outputs": [],
   "source": [
    "scores = \n",
    "auc_full = pd.DataFrame(scores,columns=['1st_fold', '2nd_fold', '3rd_fold','4th_fold','5th_fold'])"
   ]
  },
  {
   "cell_type": "code",
   "execution_count": 28,
   "id": "8b8e6eb1",
   "metadata": {},
   "outputs": [],
   "source": [
    "auc_full = pd.read_csv('auc_full_training_set.csv')"
   ]
  },
  {
   "cell_type": "code",
   "execution_count": 29,
   "id": "591a12d8",
   "metadata": {},
   "outputs": [
    {
     "data": {
      "image/png": "[encoded data removed]",
      "text/plain": [
       "<Figure size 648x432 with 1 Axes>"
      ]
     },
     "metadata": {
      "needs_background": "light"
     },
     "output_type": "display_data"
    }
   ],
   "source": [
    "plt.figure(figsize=(9,6))\n",
    "x = [1,2,3,4,5]\n",
    "y1 = auc_full.iloc[0].ravel()\n",
    "y2 = auc_full.iloc[1].ravel()\n",
    "y3 = auc_full.iloc[2].ravel()\n",
    "plt.plot(x, y1)\n",
    "plt.plot(x, y2)\n",
    "plt.plot(x, y3)\n",
    "plt.legend(['1NN model','3NN model','5NN model'])\n",
    "plt.title ('5-fold cross validation for kNN model on full training data set')\n",
    "plt.xlabel(\"xth fold\", fontsize = 18)\n",
    "plt.ylabel(\"auc score\", fontsize = 18)\n",
    "plt.tick_params(labelsize = 16)\n",
    "\n",
    "plt.show()"
   ]
  },
  {
   "cell_type": "markdown",
   "id": "2965c6ec",
   "metadata": {},
   "source": [
    "We can see that although increasing the number of k for our kNN model do improve the auc scores, but it is insignificant."
   ]
  },
  {
   "cell_type": "markdown",
   "id": "51e645ae",
   "metadata": {},
   "source": [
    "## kNN models with under sampled train set\n",
    "After experimenting wiht"
   ]
  },
  {
   "cell_type": "code",
   "execution_count": 30,
   "id": "7f1749db",
   "metadata": {},
   "outputs": [],
   "source": [
    "train = pd.read_csv('C:/Users/nd19620/OneDrive - University of Bristol/DST/DST_Assessment1/Xinyue Guan/Data/imputetrain.csv')\n",
    "test = pd.read_csv('C:/Users/nd19620/OneDrive - University of Bristol/DST/DST_Assessment1/Xinyue Guan/Data/New_test.csv')"
   ]
  },
  {
   "cell_type": "code",
   "execution_count": 31,
   "id": "2043802f",
   "metadata": {},
   "outputs": [],
   "source": [
    "y_train = train['target'].values\n",
    "id_train = train['id'].values\n",
    "X_train = train.drop(['target', 'id'], axis=1)\n",
    "\n",
    "id_test = test['id'].values\n",
    "X_test = test.drop(['target','id'], axis=1)\n",
    "y_test = test['target'].values\n",
    "\n",
    "X_train = pd.DataFrame(X_train)\n",
    "X_test = pd.DataFrame(X_test)\n",
    "y_train=y_train.ravel()"
   ]
  },
  {
   "cell_type": "code",
   "execution_count": 32,
   "id": "b6c57568",
   "metadata": {},
   "outputs": [],
   "source": [
    "count_class_0, count_class_1 = train.target.value_counts()\n",
    "df_class_0 = train[train['target'] == 0]\n",
    "df_class_1 = train[train['target'] == 1]"
   ]
  },
  {
   "cell_type": "code",
   "execution_count": 33,
   "id": "4ea1f981",
   "metadata": {},
   "outputs": [],
   "source": [
    "df_class_0_under = df_class_0.sample(count_class_1)\n",
    "train_under = pd.concat([df_class_0_under, df_class_1], axis=0)"
   ]
  },
  {
   "cell_type": "code",
   "execution_count": 34,
   "id": "2166d77c",
   "metadata": {},
   "outputs": [],
   "source": [
    "y_train_under = train_under['target'].values\n",
    "X_train_under = train_under.drop(['target', 'id'], axis=1)\n",
    "\n",
    "X_test = test.drop(['target','id'], axis=1)\n",
    "y_test = test['target'].values\n",
    "\n",
    "X_train_under = pd.DataFrame(X_train_under)\n",
    "X_test = pd.DataFrame(X_test)\n",
    "y_train_under=y_train_under.ravel()"
   ]
  },
  {
   "cell_type": "code",
   "execution_count": 35,
   "id": "00c8a904",
   "metadata": {},
   "outputs": [],
   "source": [
    "scaler = StandardScaler()\n",
    "scaled_train0= scaler.fit_transform(X_train_under)\n",
    "X_train_under = pd.DataFrame(scaled_train0, columns=X_train_under.columns)\n",
    "scaled_test0 = scaler.fit_transform(X_test)\n",
    "X_test = pd.DataFrame(scaled_test0, columns=X_test.columns)"
   ]
  },
  {
   "cell_type": "code",
   "execution_count": 36,
   "id": "9785ed7d",
   "metadata": {},
   "outputs": [
    {
     "name": "stdout",
     "output_type": "stream",
     "text": [
      "Random under-sampling:\n",
      "0    16195\n",
      "1    16195\n",
      "Name: target, dtype: int64\n"
     ]
    },
    {
     "data": {
      "text/plain": [
       "<AxesSubplot:title={'center':'Count (target)'}>"
      ]
     },
     "execution_count": 36,
     "metadata": {},
     "output_type": "execute_result"
    },
    {
     "data": {
      "image/png": "[encoded data removed]",
      "text/plain": [
       "<Figure size 432x288 with 1 Axes>"
      ]
     },
     "metadata": {
      "needs_background": "light"
     },
     "output_type": "display_data"
    }
   ],
   "source": [
    "print('Random under-sampling:')\n",
    "print(train_under.target.value_counts())\n",
    "\n",
    "train_under.target.value_counts().plot(kind='bar', title='Count (target)')"
   ]
  },
  {
   "cell_type": "code",
   "execution_count": 39,
   "id": "6fbea682",
   "metadata": {},
   "outputs": [
    {
     "name": "stdout",
     "output_type": "stream",
     "text": [
      "[0.51636308 0.52994751 0.52176598 0.52284656 0.52439024]\n"
     ]
    }
   ],
   "source": [
    "scores = []\n",
    "under_scores1 = cross_val_score(knn_model1, X_train_under, y_train_under, scoring='roc_auc', cv=cv, n_jobs=-1)\n",
    "print(under_scores1)\n",
    "scores.append(under_scores1)"
   ]
  },
  {
   "cell_type": "code",
   "execution_count": 43,
   "id": "c1350f8a",
   "metadata": {},
   "outputs": [
    {
     "name": "stdout",
     "output_type": "stream",
     "text": [
      "[0.53988854 0.54419804 0.54167896 0.54090945 0.5492475 ]\n"
     ]
    }
   ],
   "source": [
    "under_scores3 = cross_val_score(knn_model3, X_train_under, y_train_under, scoring='roc_auc', cv=cv, n_jobs=-1)\n",
    "print(under_scores3)\n",
    "scores.append(under_scores3)"
   ]
  },
  {
   "cell_type": "code",
   "execution_count": 48,
   "id": "55705ed7",
   "metadata": {},
   "outputs": [
    {
     "name": "stdout",
     "output_type": "stream",
     "text": [
      "[0.55381455 0.55017629 0.56112159 0.55483613 0.55879748]\n"
     ]
    }
   ],
   "source": [
    "under_scores5 = cross_val_score(knn_model5, X_train_under, y_train_under, scoring='roc_auc', cv=cv, n_jobs=-1)\n",
    "print(under_scores5)\n",
    "scores.append(under_scores3)"
   ]
  },
  {
   "cell_type": "code",
   "execution_count": 50,
   "id": "61891b9b",
   "metadata": {},
   "outputs": [],
   "source": [
    "auc_under = pd.DataFrame(scores,columns=['1st_fold', '2nd_fold', '3rd_fold','4th_fold','5th_fold'])\n",
    "auc_under.to_csv('auc_under_sampled_training_set.csv', index = False)"
   ]
  },
  {
   "cell_type": "code",
   "execution_count": 52,
   "id": "33610d4e",
   "metadata": {},
   "outputs": [
    {
     "data": {
      "image/png": "[encoded data removed]",
      "text/plain": [
       "<Figure size 648x432 with 1 Axes>"
      ]
     },
     "metadata": {
      "needs_background": "light"
     },
     "output_type": "display_data"
    }
   ],
   "source": [
    "plt.figure(figsize=(9,6))\n",
    "x = [1,2,3,4,5]\n",
    "y1 = auc_under.iloc[0].ravel()\n",
    "y2 = auc_under.iloc[1].ravel()\n",
    "y3 = auc_full.iloc[2].ravel()\n",
    "plt.plot(x, y1)\n",
    "plt.plot(x, y2)\n",
    "plt.plot(x, y3)\n",
    "plt.legend(['1NN model','3NN model','5NN model'])\n",
    "plt.title ('5-fold cross validation for kNN model on under-sampled training data set')\n",
    "plt.xlabel(\"xth fold\", fontsize = 18)\n",
    "plt.ylabel(\"auc score\", fontsize = 18)\n",
    "plt.tick_params(labelsize = 16)\n",
    "\n",
    "plt.show()"
   ]
  },
  {
   "cell_type": "markdown",
   "id": "33442f0a",
   "metadata": {},
   "source": [
    "## Conclusion"
   ]
  },
  {
   "cell_type": "code",
   "execution_count": null,
   "id": "c8f39b97",
   "metadata": {},
   "outputs": [],
   "source": []
  }
 ],
 "metadata": {
  "kernelspec": {
   "display_name": "Python 3 (ipykernel)",
   "language": "python",
   "name": "python3"
  },
  "language_info": {
   "codemirror_mode": {
    "name": "ipython",
    "version": 3
   },
   "file_extension": ".py",
   "mimetype": "text/x-python",
   "name": "python",
   "nbconvert_exporter": "python",
   "pygments_lexer": "ipython3",
   "version": "3.9.12"
  }
 },
 "nbformat": 4,
 "nbformat_minor": 5
}
