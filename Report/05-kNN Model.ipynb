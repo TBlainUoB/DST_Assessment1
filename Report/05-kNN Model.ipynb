{
 "cells": [
  {
   "cell_type": "code",
   "execution_count": 7,
   "id": "7e4c4de4",
   "metadata": {},
   "outputs": [],
   "source": [
    "import pandas as pd\n",
    "import numpy as np\n",
    "import math\n",
    "import matplotlib.pyplot as plt\n",
    "from sklearn.preprocessing import StandardScaler #for standardizing data\n",
    "from sklearn.neighbors import KNeighborsClassifier\n",
    "from sklearn.metrics import  roc_curve,auc, accuracy_score, confusion_matrix\n",
    "from math import ceil\n",
    "from sklearn.ensemble import BaggingClassifier,RandomForestClassifier\n",
    "from sklearn.model_selection import StratifiedKFold, train_test_split,cross_val_score\n",
    "from numba import jit"
   ]
  },
  {
   "cell_type": "code",
   "execution_count": null,
   "id": "82336ff9",
   "metadata": {},
   "outputs": [],
   "source": [
    "@jit\n",
    "def gini(y_true, y_prob):\n",
    "    y_true = np.asarray(y_true)\n",
    "    y_true = y_true[np.argsort(y_prob)]\n",
    "    ntrue = 0\n",
    "    gini = 0\n",
    "    delta = 0\n",
    "    n = len(y_true)\n",
    "    for i in range(n-1, -1, -1):\n",
    "        y_i = y_true[i]\n",
    "        ntrue += y_i\n",
    "        gini += y_i * delta\n",
    "        delta += 1 - y_i\n",
    "    gini = 1 - 2 * gini / (ntrue * (n - ntrue))\n",
    "    return gini"
   ]
  },
  {
   "cell_type": "code",
   "execution_count": 4,
   "id": "b6c57568",
   "metadata": {},
   "outputs": [],
   "source": [
    "train = pd.read_csv('C:/Users/nd19620/OneDrive - University of Bristol/DST/DST_Assessment1/Xinyue Guan/Data/imputetrain.csv')\n",
    "test = pd.read_csv('C:/Users/nd19620/OneDrive - University of Bristol/DST/DST_Assessment1/Xinyue Guan/Data/New_test.csv')\n",
    "\n",
    "count_class_0, count_class_1 = train.target.value_counts()\n",
    "df_class_0 = train[train['target'] == 0]\n",
    "df_class_1 = train[train['target'] == 1]"
   ]
  },
  {
   "cell_type": "code",
   "execution_count": null,
   "id": "64e33437",
   "metadata": {},
   "outputs": [],
   "source": [
    "df_class_0_under = df_class_0.sample(count_class_1)\n",
    "train_under = pd.concat([df_class_0_under, df_class_1], axis=0)"
   ]
  },
  {
   "cell_type": "code",
   "execution_count": 5,
   "id": "5070e9ee",
   "metadata": {},
   "outputs": [],
   "source": [
    "y_train = train['target'].values\n",
    "id_train = train['id'].values\n",
    "X_train = train.drop(['target', 'id'], axis=1)\n",
    "\n",
    "id_test = test['id'].values\n",
    "X_test = test.drop(['target','id'], axis=1)\n",
    "y_test = test['target'].values\n",
    "\n",
    "X_train = pd.DataFrame(X_train)\n",
    "X_test = pd.DataFrame(X_test)\n",
    "y_train1=y_train.ravel()"
   ]
  },
  {
   "cell_type": "code",
   "execution_count": 6,
   "id": "d5ef20bd",
   "metadata": {},
   "outputs": [],
   "source": [
    "scaler = StandardScaler()\n",
    "scaled_train0= scaler.fit_transform(X_train)\n",
    "X_train = pd.DataFrame(scaled_train0, columns=X_train.columns)\n",
    "scaled_test0 = scaler.fit_transform(X_test)\n",
    "X_test = pd.DataFrame(scaled_test0, columns=X_test.columns)"
   ]
  }
 ],
 "metadata": {
  "kernelspec": {
   "display_name": "Python 3 (ipykernel)",
   "language": "python",
   "name": "python3"
  },
  "language_info": {
   "codemirror_mode": {
    "name": "ipython",
    "version": 3
   },
   "file_extension": ".py",
   "mimetype": "text/x-python",
   "name": "python",
   "nbconvert_exporter": "python",
   "pygments_lexer": "ipython3",
   "version": "3.9.12"
  }
 },
 "nbformat": 4,
 "nbformat_minor": 5
}
