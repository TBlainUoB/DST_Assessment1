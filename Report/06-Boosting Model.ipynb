{
 "cells": [
  {
   "cell_type": "markdown",
   "metadata": {},
   "source": [
    "# LightGBM with grid search for hyperparameter optimisation"
   ]
  },
  {
   "cell_type": "markdown",
   "metadata": {},
   "source": [
    "In this section we are going to create a boosting model for our classification problem.\n",
    "Boosting is an algorithm which set out to answer the question \"Can a set of weak learners create a single strong learner?\"[1]\n",
    "It turns out to be very successful in a wide array of applications. [2]\n",
    "\n",
    "LightGBM, short for light gradient-boosting machine, is a specific boosting framework developed by microsoft and released open source in 2016.\n",
    "Although less widely used than XGboost, LightGBM has advantages in efficiency and memory consumption. [3]\n",
    "\n",
    "We originally wished to use XGboost, but due to some of the problems we came across when implementing the model, LightGBM was the better choice."
   ]
  },
  {
   "cell_type": "code",
   "execution_count": 31,
   "metadata": {
    "collapsed": true
   },
   "outputs": [],
   "source": [
    "import numpy as np\n",
    "import pandas as pd\n",
    "from datetime import datetime\n",
    "from numba import jit\n",
    "import lightgbm as lgbm\n",
    "from sklearn.impute import SimpleImputer\n",
    "from sklearn.model_selection import RandomizedSearchCV\n",
    "from sklearn.model_selection import StratifiedKFold\n",
    "from sklearn.preprocessing import StandardScaler\n",
    "from bayes_opt import BayesianOptimization"
   ]
  },
  {
   "cell_type": "markdown",
   "metadata": {},
   "source": [
    "Here we have our functions to calculate the gini coefficient, and implement the data handling code to sort out missing values / drop the columns which are mostly missing values and also the calc columns since our EDA discovered these had no correlation to the target. Furthermore, we encode our catagorical features and rescale the data."
   ]
  },
  {
   "cell_type": "code",
   "execution_count": 32,
   "metadata": {},
   "outputs": [],
   "source": [
    "def timer(start_time=None):\n",
    "    if not start_time:\n",
    "        start_time = datetime.now()\n",
    "        return start_time\n",
    "    elif start_time:\n",
    "        thour, temp_sec = divmod((datetime.now() - start_time).total_seconds(), 3600)\n",
    "        tmin, tsec = divmod(temp_sec, 60)\n",
    "        print('\\n Time taken: %i hours %i minutes and %s seconds' % (thour, tmin, round(tsec, 2)))\n",
    "\n",
    "\n",
    "@jit\n",
    "def gini(y_true, y_prob):\n",
    "    y_true = np.asarray(y_true)\n",
    "    y_true = y_true[np.argsort(y_prob)]\n",
    "    ntrue = 0\n",
    "    gini = 0\n",
    "    delta = 0\n",
    "    n = len(y_true)\n",
    "    for i in range(n - 1, -1, -1):\n",
    "        y_i = y_true[i]\n",
    "        ntrue += y_i\n",
    "        gini += y_i * delta\n",
    "        delta += 1 - y_i\n",
    "    gini = 1 - 2 * gini / (ntrue * (n - ntrue))\n",
    "    return gini\n",
    "\n",
    "\n",
    "def evalerror(preds, dtrain):\n",
    "    labels = dtrain.get_label()\n",
    "    return 'gini', gini(labels, preds), True\n",
    "\n",
    "\n",
    "def dropmissingcol(pdData):\n",
    "    vars_to_drop = ['ps_car_03_cat', 'ps_car_05_cat']\n",
    "    pdData.drop(vars_to_drop, inplace=True, axis=1)\n",
    "    return pdData\n",
    "\n",
    "\n",
    "def missingvalues(pdData):\n",
    "    mean_imp = SimpleImputer(missing_values=-1, strategy='mean')\n",
    "    mode_imp = SimpleImputer(missing_values=-1, strategy='most_frequent')\n",
    "    features = ['ps_reg_03', 'ps_car_12', 'ps_car_14', 'ps_car_11']\n",
    "    for i in features:\n",
    "        if i == 'ps_car_11':\n",
    "            pdData[i] = mode_imp.fit_transform(pdData[[i]]).ravel()\n",
    "        else:\n",
    "            pdData[i] = mean_imp.fit_transform(pdData[[i]]).ravel()\n",
    "    return pdData\n",
    "\n",
    "\n",
    "def encodecat(train, test):\n",
    "    cat_features = [col for col in train.columns if '_cat' in col]\n",
    "    for column in cat_features:\n",
    "        temp = pd.get_dummies(pd.Series(train[column]), prefix=column)\n",
    "        train = pd.concat([train, temp], axis=1)\n",
    "        train = train.drop([column], axis=1)\n",
    "\n",
    "    for column in cat_features:\n",
    "        temp = pd.get_dummies(pd.Series(test[column]), prefix=column)\n",
    "        test = pd.concat([test, temp], axis=1)\n",
    "        test = test.drop([column], axis=1)\n",
    "    return train, test\n",
    "\n",
    "\n",
    "def RescaleData(train, test):\n",
    "    scaler = StandardScaler()\n",
    "    scaler.fit_transform(train)\n",
    "    scaler.fit_transform(test)\n",
    "    return train, test\n",
    "\n",
    "\n",
    "def DropCalcCol(train, test):\n",
    "    col_to_drop = train.columns[train.columns.str.startswith('ps_calc_')]\n",
    "    train = train.drop(col_to_drop, axis=1)\n",
    "    test = test.drop(col_to_drop, axis=1)\n",
    "    return train, test"
   ]
  },
  {
   "cell_type": "markdown",
   "metadata": {},
   "source": [
    "We begin by loading our data - This is the data where the missing values have already been imputed by a linear regression model.\n",
    "We can later set our impute boolean to False and compare how effective this model was in comparison to a simple mean/mode imputation.\n",
    "\n",
    "Applying the functions above, we have an encoded, rescaled dataset with missing values imputed. The targets have been seperated as new dataframes.\n",
    "\n",
    "In general, it is not necessary to scale or encode your data when using boosting algorithms. Boosting algorithms typically work by building a model based on a combination of many weak models, each of which is trained on a subset of the data. This means that boosting algorithms are less sensitive to the scale of the data than some other types of algorithms, such as support vector machines. However, it is unlikely to lower the performance of the algorithm and in some cases could result in increased performance. In this example, it has been done since the functions have already been written for our previous models. Here, lightgbm will be using gradient boosted decision trees which are scale invariant. [4] [5]"
   ]
  },
  {
   "cell_type": "code",
   "execution_count": 33,
   "metadata": {},
   "outputs": [],
   "source": [
    "impute = True #true if we use linear regression to impute missing values - false uses mean/mode imputation\n",
    "if impute == True: #our imputed training set can be calculated by running the datahandling section of the code\n",
    "    train = pd.read_csv(\"Dataset/ImputeTrain.csv\")\n",
    "    test = pd.read_csv(\"Dataset/ImputeTest.csv\")\n",
    "else:\n",
    "    train = pd.read_csv(\"Dataset/new_train.csv\")\n",
    "    test = pd.read_csv(\"Dataset/new_test.csv\")\n",
    "    test = dropmissingcol(test)\n",
    "    train = dropmissingcol(train)\n",
    "target_test = test['target'].values\n",
    "test = test.drop(['target'], axis=1)\n",
    "\n",
    "#code to clean up any remaining missing values with mean impute\n",
    "train = missingvalues(train)\n",
    "test = missingvalues(test)\n",
    "\n",
    "#removing these columns from the dataframes and saving them seperately\n",
    "y_train = train['target'].values\n",
    "train_id = train['id'].values\n",
    "X = train.drop(['target', 'id'], axis=1)\n",
    "test_id = test['id']\n",
    "X_test = test.drop(['id'], axis=1)\n",
    "\n",
    "#encoding, rescaling and dropping calc columns\n",
    "X, X_test = DropCalcCol(X, X_test)\n",
    "X, X_test = encodecat(X, X_test)\n",
    "X = pd.DataFrame(X)\n",
    "X_test = pd.DataFrame(X_test)\n",
    "X, X_test = RescaleData(X, X_test)"
   ]
  },
  {
   "cell_type": "markdown",
   "metadata": {},
   "source": [
    "We are now ready to implement the model.\n",
    "\n",
    "XGboost vs LightGBM\n",
    "\n",
    "Originally we set out on the project to implement an XGboost algorithm. The reasoning behind this was due to the fact that they often perform extremely well in tasks similar to the one here, especially when looking at the Kaggle leaderboards (albeit prone to overfitting)\n",
    "When implementing a boosting algorithm, a huge part of the success comes from hyperparameter optimisation. [6]\n",
    "A method we have previously looked at is Grid Search CV for hyperparameter optimisation - effectively brute searching through a collection of potential hyperparameter combinations and returning the best result. An issue with this method is that the more precision you want, the more combinations and possibilities you will have to try. [7]\n",
    "\n",
    "An XGboost algorithm simply fell short on this big dataset as it was going to take a long time to run a grid search.\n",
    "Possibilities were to reduce the dataset size for the grid search - say run the grid search on 20% of the data,\n",
    "Or research into LightGBM, an alternative boosting method with solid claims of being a lot more efficient in run time. [8]\n",
    "\n",
    "When implementing LightGBM the difference was huge. We could maintain the same full dataset and search through a large amount of hyperparameter combinations to optimise, which resulted in a noticeable score increase in comparison to our xgboost algorithm with a small hyperparameter search grid.\n",
    "\n",
    "Therefore, for this project, we found LightGBM to be a better choice of algorithm."
   ]
  },
  {
   "cell_type": "markdown",
   "source": [
    "# Grid Search"
   ],
   "metadata": {
    "collapsed": false
   }
  },
  {
   "cell_type": "code",
   "execution_count": 34,
   "metadata": {},
   "outputs": [
    {
     "data": {
      "text/plain": "\"\\nstart_time = timer(None)\\n#start search\\nrandom_search.fit(X, y_train)\\ntimer(start_time)\\n\\nprint('\\n All results:')\\nprint(random_search.cv_results_)\\nprint('\\n Best estimator:')\\nprint(random_search.best_estimator_)\\nprint('\\n Best Normalised gini score for %d-fold search with %d parameter combinations:' % (folds, param_comb))\\nprint(random_search.best_score_)\\nprint('\\n Best hyperparameters:')\\nprint(random_search.best_params_)\\nresults = pd.DataFrame(random_search.cv_results_)\\nresults.to_csv('lightgbm-randomgridsearch-results-03.csv')\\n\""
     },
     "execution_count": 34,
     "metadata": {},
     "output_type": "execute_result"
    }
   ],
   "source": [
    "OPTIMIZE_ROUNDS = False\n",
    "LEARNING_RATE = 0.07\n",
    "EARLY_STOPPING_ROUNDS = 50\n",
    "\n",
    "#paramaters to search over\n",
    "params = {\n",
    "    'min_child_weight': [5, 10, 12, 15, 30, 50, 100, 150],\n",
    "    'num_leaves': [4, 5, 8, 10, 15, 20, 30],\n",
    "    'subsample': [0.2, 0.4, 0.6, 0.8],\n",
    "    'drop_rate': [0.1, 0.3, 0.5, 0.7, 0.15, 0.2],\n",
    "    'max_depth': [3, 4, 5, 7, 10, 12, 15, 20]\n",
    "}\n",
    "#classifier model\n",
    "model = lgbm.LGBMClassifier(learning_rate=LEARNING_RATE, n_estimators=600, objective='binary', )\n",
    "\n",
    "#folds to use in stratified k-fold\n",
    "folds = 3\n",
    "#how many combinations of the above parameters should we try\n",
    "param_comb = 10\n",
    "#the algorithm is going to run folds x param_comb times\n",
    "\n",
    "SKfold = StratifiedKFold(n_splits=folds, shuffle=True, random_state=1)\n",
    "#set up search with SKfold split\n",
    "random_search = RandomizedSearchCV(model, param_distributions=params, n_iter=param_comb, scoring='roc_auc', n_jobs=4,\n",
    "                                   cv=SKfold.split(X, y_train), verbose=3, random_state=1)\n",
    "\n",
    "\n",
    "#UNCOMMENT THIS SECTION TO START GRID SEARCH - CODE COMPLETION ~4 MIN\n",
    "'''\n",
    "start_time = timer(None)\n",
    "#start search\n",
    "random_search.fit(X, y_train)\n",
    "timer(start_time)\n",
    "\n",
    "print('\\n All results:')\n",
    "print(random_search.cv_results_)\n",
    "print('\\n Best estimator:')\n",
    "print(random_search.best_estimator_)\n",
    "print('\\n Best Normalised gini score for %d-fold search with %d parameter combinations:' % (folds, param_comb))\n",
    "print(random_search.best_score_)\n",
    "print('\\n Best hyperparameters:')\n",
    "print(random_search.best_params_)\n",
    "results = pd.DataFrame(random_search.cv_results_)\n",
    "results.to_csv('lightgbm-randomgridsearch-results-03.csv')\n",
    "'''"
   ]
  },
  {
   "cell_type": "markdown",
   "metadata": {},
   "source": [
    "In grid search, a set of possible values for each hyperparameter is defined, and the combination of these values forms a grid. The grid search algorithm will then train the model with each combination of hyperparameters and evaluate the performance of the model on a validation set. The combination of hyperparameters that produces the best performance on the validation set is chosen as the best set of hyperparameters for the model.\n",
    "\n",
    "Grid search can be computationally expensive, as it requires training the model multiple times with different combinations of hyperparameters. However, it is a simple and effective method for finding the best hyperparameters for a given model and dataset.\n",
    "\n",
    "Here we have set up a grid search with the hyperparameters of interest to search over. For the remaining hyperparameters, we can make a good guess from LightGBM literature online or they lack importance to fine tune in this particular case.\n",
    "\n",
    "In this notebook, we have set to 3 folds and 10 combinations only to make the notebook accessible.\n",
    "\n",
    "We run the grid search over a k=5 Stratified k-fold and search through with n_iter as the amount of combinations we wish to look at.\n",
    "This is still a time intensive exercise, it is run in parallel across 4 chains but the LightGBM model has to train on five folds for each combination, and this is about 20-30 seconds each. For the strongest parameters I will use in the final model, we searched 200 combinations taking around 2 hours. This is overkill"
   ]
  },
  {
   "cell_type": "markdown",
   "source": [
    "# Bayesian Optimisation"
   ],
   "metadata": {
    "collapsed": false
   }
  },
  {
   "cell_type": "markdown",
   "source": [
    "Our grid search experienced a lot of flaws regarding the brute search aspect. It just isn't feasible to try every hyperparameter combination possible to really find our best combination. This led us to try a bayesian optimisation method, where in a bayesian way, we start with vague priors with weight on the possible values of the hyperparameters and update that distribution as the search goes on. This allows us to focus around the 'optimum' value much more quickly and waste less time looking at bad combinations. Furthermore, we can find continuous values of our hyperparameters whereas grid search was limited to the values we put into the grid. [9]\n",
    "\n",
    "Overall, this is a far superior method for our application here."
   ],
   "metadata": {
    "collapsed": false
   }
  },
  {
   "cell_type": "code",
   "execution_count": 35,
   "metadata": {},
   "outputs": [
    {
     "data": {
      "text/plain": "'\\n# perform Bayesian optimisation to find the optimal hyperparameters\\noptimizer = BayesianOptimization(evaluate_model, hyperparameters)\\noptimizer.maximize(n_iter=10)\\n\\n# display the optimal values of the hyperparameters\\nprint(\"Optimal hyperparameters:\")\\nprint(optimizer.max)\\n'"
     },
     "execution_count": 35,
     "metadata": {},
     "output_type": "execute_result"
    }
   ],
   "source": [
    "def evaluate_model(num_leaves, min_child_weight, feature_fraction, subsample, drop_rate, max_depth):\n",
    "    params = {\n",
    "        \"objective\": \"binary\",\n",
    "        \"boosting_type\": \"gbdt\",\n",
    "        \"learning_rate\": 0.07,\n",
    "        \"verbosity\": -1,\n",
    "        \"num_leaves\": int(num_leaves),\n",
    "        \"min_child_weight\": min_child_weight,\n",
    "        \"feature_fraction\": feature_fraction,\n",
    "        \"subsample\": subsample,\n",
    "        'drop_rate': drop_rate,\n",
    "        'max_depth': int(max_depth)\n",
    "    }\n",
    "    num_boost_round = 10000\n",
    "\n",
    "    # define the number of folds for cross-validation\n",
    "    n_folds = 5\n",
    "\n",
    "    # create a stratified k-fold iterator\n",
    "    skf = StratifiedKFold(n_splits=n_folds, shuffle=True, random_state=1)\n",
    "\n",
    "    # initialize a list to store the evaluation metric for each fold\n",
    "    scores = []\n",
    "\n",
    "    # iterate over the folds\n",
    "    for id_train, id_val in skf.split(X, y_train):\n",
    "        # get the training and validation data for this fold\n",
    "        X_train_fold = X.iloc[id_train]\n",
    "        y_train_fold = y_train[id_train]\n",
    "        X_val_fold = X.iloc[id_val]\n",
    "        y_val_fold = y_train[id_val]\n",
    "\n",
    "        lgb_train = lgbm.Dataset(X_train_fold, y_train_fold)\n",
    "        lgb_val = lgbm.Dataset(X_val_fold, y_val_fold)\n",
    "\n",
    "        # train the model with the specified parameters on the training data\n",
    "        model = lgbm.train(params, lgb_train, num_boost_round, valid_sets=lgb_val, feval=evalerror, verbose_eval=100, early_stopping_rounds=100)\n",
    "        scores.append(model.best_score['valid_0']['gini'])\n",
    "\n",
    "    # return the mean evaluation metric across all folds\n",
    "    return np.mean(scores)\n",
    "\n",
    "# define the hyperparameters to be optimised\n",
    "hyperparameters = {\n",
    "    \"num_leaves\": (4, 50),\n",
    "    \"min_child_weight\": (0.001, 150),\n",
    "    \"feature_fraction\": (0.1, 0.9),\n",
    "    \"subsample\": (0.1, 1),\n",
    "    'drop_rate': (0.1, 0.8),\n",
    "    'max_depth': (3, 20)\n",
    "}\n",
    "#UNCOMMENT TO START BAYESIAN OPTIMISATION ~10 MINS\n",
    "'''\n",
    "# perform Bayesian optimisation to find the optimal hyperparameters\n",
    "optimizer = BayesianOptimization(evaluate_model, hyperparameters)\n",
    "optimizer.maximize(n_iter=10)\n",
    "\n",
    "# display the optimal values of the hyperparameters\n",
    "print(\"Optimal hyperparameters:\")\n",
    "print(optimizer.max)\n",
    "'''"
   ]
  },
  {
   "cell_type": "code",
   "execution_count": 36,
   "outputs": [
    {
     "data": {
      "text/plain": "\"\\nOptimal hyperparameters from bayesian optimisation:\\n{'target': 0.28495605847657257, 'params': {'drop_rate': 0.22059703601445746, 'feature_fraction': 0.5855988837603003, 'max_depth': 17.666370012570326, 'min_child_weight': 139.73583540367778, 'num_leaves': 19.340987296541584, 'subsample': 0.2208063179655893}}\\n\""
     },
     "execution_count": 36,
     "metadata": {},
     "output_type": "execute_result"
    }
   ],
   "source": [
    "'''\n",
    "Best hyperparameters from grid search:\n",
    "{'subsample': 0.2, 'num_leaves': 15, 'min_child_weight': 150, 'max_depth': 3, 'drop_rate': 0.15}\n",
    "'''\n",
    "'''\n",
    "Optimal hyperparameters from bayesian optimisation:\n",
    "{'target': 0.28495605847657257, 'params': {'drop_rate': 0.22059703601445746, 'feature_fraction': 0.5855988837603003, 'max_depth': 17.666370012570326, 'min_child_weight': 139.73583540367778, 'num_leaves': 19.340987296541584, 'subsample': 0.2208063179655893}}\n",
    "'''"
   ],
   "metadata": {
    "collapsed": false
   }
  },
  {
   "cell_type": "markdown",
   "source": [
    "# LightGBM model"
   ],
   "metadata": {
    "collapsed": false
   }
  },
  {
   "cell_type": "markdown",
   "metadata": {},
   "source": [
    "Now we have found our best parameters, we are ready to train the model and predict on the test set.\n",
    "\n",
    "When working with a dataset that has a class imbalance, stratified k-fold can be especially useful. This is because a dataset with a class imbalance can cause the model to be biased towards the majority class, and the evaluation of the model may be misleading if the folds are not representative of the class distribution in the dataset. By using stratified k-fold cross-validation, the model can be trained and evaluated on balanced folds, which can provide more accurate estimates of the model's performance.\n",
    "\n",
    "We also wish to acknowledge the issue of overfitting, so we set early stopping times and iterate this process of generating our predictions by averaging over different folds and furthermore averaging the whole process over different seeds. Taking only our best folds would overfit here. Using multiple models trained with different random seeds will have slightly different parameter values and will make slightly different predictions. Averaging the predictions of these models can help smooth out any overfitting that may have occurred in individual models,"
   ]
  },
  {
   "cell_type": "code",
   "execution_count": 37,
   "metadata": {},
   "outputs": [
    {
     "name": "stdout",
     "output_type": "stream",
     "text": [
      "\n",
      " Time taken: 0 hours 0 minutes and 0.0 seconds\n",
      "Training until validation scores don't improve for 100 rounds\n",
      "[100]\tvalid_0's binary_logloss: 0.151177\tvalid_0's gini: 0.286179\n",
      "[200]\tvalid_0's binary_logloss: 0.15118\tvalid_0's gini: 0.286243\n",
      "Early stopping, best iteration is:\n",
      "[133]\tvalid_0's binary_logloss: 0.151113\tvalid_0's gini: 0.287715\n",
      "Training until validation scores don't improve for 100 rounds\n",
      "[100]\tvalid_0's binary_logloss: 0.150902\tvalid_0's gini: 0.294898\n",
      "[200]\tvalid_0's binary_logloss: 0.150811\tvalid_0's gini: 0.296848\n",
      "[300]\tvalid_0's binary_logloss: 0.150866\tvalid_0's gini: 0.296176\n",
      "Early stopping, best iteration is:\n",
      "[212]\tvalid_0's binary_logloss: 0.150801\tvalid_0's gini: 0.297337\n",
      "Training until validation scores don't improve for 100 rounds\n",
      "[100]\tvalid_0's binary_logloss: 0.15189\tvalid_0's gini: 0.267312\n",
      "[200]\tvalid_0's binary_logloss: 0.151864\tvalid_0's gini: 0.269072\n",
      "Early stopping, best iteration is:\n",
      "[168]\tvalid_0's binary_logloss: 0.151828\tvalid_0's gini: 0.269801\n",
      "Training until validation scores don't improve for 100 rounds\n",
      "[100]\tvalid_0's binary_logloss: 0.151287\tvalid_0's gini: 0.285134\n",
      "[200]\tvalid_0's binary_logloss: 0.151183\tvalid_0's gini: 0.287207\n",
      "Early stopping, best iteration is:\n",
      "[166]\tvalid_0's binary_logloss: 0.151178\tvalid_0's gini: 0.28792\n",
      "Training until validation scores don't improve for 100 rounds\n",
      "[100]\tvalid_0's binary_logloss: 0.151525\tvalid_0's gini: 0.274378\n",
      "[200]\tvalid_0's binary_logloss: 0.151466\tvalid_0's gini: 0.276425\n",
      "Early stopping, best iteration is:\n",
      "[180]\tvalid_0's binary_logloss: 0.151455\tvalid_0's gini: 0.27675\n",
      "\n",
      " Time taken: 0 hours 1 minutes and 1.21 seconds\n",
      "Training until validation scores don't improve for 100 rounds\n",
      "[100]\tvalid_0's binary_logloss: 0.1512\tvalid_0's gini: 0.285853\n",
      "[200]\tvalid_0's binary_logloss: 0.151165\tvalid_0's gini: 0.28648\n",
      "Early stopping, best iteration is:\n",
      "[152]\tvalid_0's binary_logloss: 0.151135\tvalid_0's gini: 0.287139\n",
      "Training until validation scores don't improve for 100 rounds\n",
      "[100]\tvalid_0's binary_logloss: 0.15095\tvalid_0's gini: 0.29471\n",
      "[200]\tvalid_0's binary_logloss: 0.150857\tvalid_0's gini: 0.296678\n",
      "Early stopping, best iteration is:\n",
      "[155]\tvalid_0's binary_logloss: 0.150852\tvalid_0's gini: 0.296671\n",
      "Training until validation scores don't improve for 100 rounds\n",
      "[100]\tvalid_0's binary_logloss: 0.151947\tvalid_0's gini: 0.2655\n",
      "[200]\tvalid_0's binary_logloss: 0.151902\tvalid_0's gini: 0.268882\n",
      "Early stopping, best iteration is:\n",
      "[135]\tvalid_0's binary_logloss: 0.151888\tvalid_0's gini: 0.267791\n",
      "Training until validation scores don't improve for 100 rounds\n",
      "[100]\tvalid_0's binary_logloss: 0.151275\tvalid_0's gini: 0.286238\n",
      "[200]\tvalid_0's binary_logloss: 0.151177\tvalid_0's gini: 0.287693\n",
      "Early stopping, best iteration is:\n",
      "[161]\tvalid_0's binary_logloss: 0.151183\tvalid_0's gini: 0.288162\n",
      "Training until validation scores don't improve for 100 rounds\n",
      "[100]\tvalid_0's binary_logloss: 0.151525\tvalid_0's gini: 0.275245\n",
      "[200]\tvalid_0's binary_logloss: 0.151471\tvalid_0's gini: 0.277552\n",
      "Early stopping, best iteration is:\n",
      "[147]\tvalid_0's binary_logloss: 0.151438\tvalid_0's gini: 0.277814\n",
      "\n",
      " Time taken: 0 hours 1 minutes and 56.75 seconds\n",
      "Training until validation scores don't improve for 100 rounds\n",
      "[100]\tvalid_0's binary_logloss: 0.151145\tvalid_0's gini: 0.287636\n",
      "[200]\tvalid_0's binary_logloss: 0.151226\tvalid_0's gini: 0.285064\n",
      "Early stopping, best iteration is:\n",
      "[122]\tvalid_0's binary_logloss: 0.151116\tvalid_0's gini: 0.288137\n",
      "Training until validation scores don't improve for 100 rounds\n",
      "[100]\tvalid_0's binary_logloss: 0.151034\tvalid_0's gini: 0.291808\n",
      "[200]\tvalid_0's binary_logloss: 0.150912\tvalid_0's gini: 0.294779\n",
      "Early stopping, best iteration is:\n",
      "[162]\tvalid_0's binary_logloss: 0.150913\tvalid_0's gini: 0.294978\n",
      "Training until validation scores don't improve for 100 rounds\n",
      "[100]\tvalid_0's binary_logloss: 0.151839\tvalid_0's gini: 0.270021\n",
      "[200]\tvalid_0's binary_logloss: 0.151813\tvalid_0's gini: 0.272565\n",
      "Early stopping, best iteration is:\n",
      "[148]\tvalid_0's binary_logloss: 0.151771\tvalid_0's gini: 0.272986\n",
      "Training until validation scores don't improve for 100 rounds\n",
      "[100]\tvalid_0's binary_logloss: 0.151356\tvalid_0's gini: 0.283382\n",
      "[200]\tvalid_0's binary_logloss: 0.151151\tvalid_0's gini: 0.287289\n",
      "Early stopping, best iteration is:\n",
      "[173]\tvalid_0's binary_logloss: 0.151163\tvalid_0's gini: 0.287526\n",
      "Training until validation scores don't improve for 100 rounds\n",
      "[100]\tvalid_0's binary_logloss: 0.151501\tvalid_0's gini: 0.27657\n",
      "[200]\tvalid_0's binary_logloss: 0.151426\tvalid_0's gini: 0.279622\n",
      "[300]\tvalid_0's binary_logloss: 0.151463\tvalid_0's gini: 0.278492\n",
      "Early stopping, best iteration is:\n",
      "[207]\tvalid_0's binary_logloss: 0.151414\tvalid_0's gini: 0.279792\n",
      "Score on the test data\n",
      "Gini\n",
      "0.2817052971888222\n"
     ]
    }
   ],
   "source": [
    "#use our best parameters\n",
    "'''\n",
    "Optimal hyperparameters from bayesian optimisation:\n",
    "{'target': 0.28495605847657257, 'params': {'drop_rate': 0.22059703601445746, 'feature_fraction': 0.5855988837603003, 'max_depth': 17.666370012570326, 'min_child_weight': 139.73583540367778, 'num_leaves': 19.340987296541584, 'subsample': 0.2208063179655893}}\n",
    "'''\n",
    "\n",
    "min_data_in_leaf = 2000\n",
    "num_boost_round = 10000\n",
    "params = {\"objective\": \"binary\",\n",
    "          \"boosting_type\": \"gbdt\",\n",
    "          \"learning_rate\": 0.07,\n",
    "          \"max_bin\": 256,\n",
    "          \"verbosity\": -1,\n",
    "          \"feature_fraction\": 0.5855988837603003,\n",
    "          'subsample': 0.220806,\n",
    "          'num_leaves': 19,\n",
    "          'min_child_weight': 140,\n",
    "          'max_depth': 18,\n",
    "          'drop_rate': 0.22059703601445746\n",
    "          }\n",
    "\n",
    "folds = 5\n",
    "\n",
    "SKfold = StratifiedKFold(n_splits=folds, shuffle=True, random_state=1)\n",
    "\n",
    "#empty, will save our scores here in the future\n",
    "best_trees = []\n",
    "fold_scores = []\n",
    "\n",
    "#cv_train = np.zeros(len(y_train))\n",
    "cv_pred = np.zeros(len(X_test))\n",
    "\n",
    "start_time = timer(None)\n",
    "#iterations each have a different seed, we average over these to prevent overfit\n",
    "iterations = 3\n",
    "for seed in range(iterations):\n",
    "    timer(start_time)\n",
    "    params['seed'] = seed\n",
    "    #start SK fold\n",
    "    for id_train, id_test in SKfold.split(X, y_train):\n",
    "        #x train, x validation\n",
    "        xtr, xvl = X.loc[id_train], X.loc[id_test]\n",
    "        #y train, y validation\n",
    "        ytr, yvl = y_train[id_train], y_train[id_test]\n",
    "        #efficient datastructures for lgbm\n",
    "        dtrain = lgbm.Dataset(data=xtr, label=ytr)\n",
    "        dval = lgbm.Dataset(data=xvl, label=yvl, reference=dtrain)\n",
    "        #model training\n",
    "        bst = lgbm.train(params, dtrain, num_boost_round, valid_sets=dval, feval=evalerror, verbose_eval=100,\n",
    "                         early_stopping_rounds=100)\n",
    "        #add best tree and fold scores to data structure\n",
    "        best_trees.append(bst.best_iteration)\n",
    "        fold_scores.append(bst.best_score)\n",
    "        #predict for our test set with best tree from fold. Sums the probabilities\n",
    "        cv_pred += bst.predict(X_test, num_iteration=bst.best_iteration)\n",
    "    #average the predictions for our 5 folds\n",
    "\n",
    "pd.DataFrame({'id': test_id, 'target': cv_pred / (iterations * folds)}).to_csv('lgbm_bayesian_opt.csv', index=False)\n",
    "\n",
    "if Kaggle == False:\n",
    "    test_score = gini(target_test, cv_pred / (iterations * folds))\n",
    "    print(\"Score on the test data\")\n",
    "    print(\"Gini\")\n",
    "    print(test_score)"
   ]
  },
  {
   "cell_type": "markdown",
   "metadata": {},
   "source": [
    "Our final result on the test set is"
   ]
  },
  {
   "cell_type": "code",
   "execution_count": 38,
   "metadata": {},
   "outputs": [
    {
     "data": {
      "text/plain": "'0.2817052971888222'"
     },
     "execution_count": 38,
     "metadata": {},
     "output_type": "execute_result"
    }
   ],
   "source": [
    "'GRID SEARCH PARAMETERS'\n",
    "\"Score on the test data\"\n",
    "\"Gini\"\n",
    "\"0.2788912296158311\"\n",
    "\n",
    "'BAYESIAN OPTIMISATION PARAMETERS'\n",
    "\"Score on the test data\"\n",
    "\"Gini\"\n",
    "\"0.2817052971888222\""
   ]
  },
  {
   "cell_type": "markdown",
   "metadata": {},
   "source": [
    "Separately, we run the same code with the mean imputed data and gridsearch parameters and our score is 0.2704817256788792"
   ]
  },
  {
   "cell_type": "markdown",
   "source": [
    "# References"
   ],
   "metadata": {
    "collapsed": false
   }
  },
  {
   "cell_type": "markdown",
   "source": [
    "[1] https://ieeexplore.ieee.org/stamp/stamp.jsp?tp=&arnumber=4809227\n",
    "Vaghela, Ganatra, Thakkar - Boost a Weak Learner to a Strong Learner Using Ensemble System Approach - 2009 - DOI:10.1109/IADCC.2009.4809227\n",
    "[2] https://www.toptal.com/machine-learning/ensemble-methods-kaggle-machine-learn\n",
    "[3] https://lightgbm.readthedocs.io/en/latest/Features.html#optimization-in-speed-and-memory-usage\n",
    "[4] https://sebastianraschka.com/faq/docs/when-to-standardize.html\n",
    "[5] https://en.wikipedia.org/wiki/Decision_tree_learning#Advantages\n",
    "[6] https://towardsdatascience.com/understanding-hyperparameters-and-its-optimisation-techniques-f0debba07568\n",
    "[7] https://web.archive.org/web/20160701182750/http://blog.dato.com/how-to-evaluate-machine-learning-models-part-4-hyperparameter-tuning\n",
    "[8] https://www.geeksforgeeks.org/lightgbm-vs-xgboost-which-algorithm-is-better/\n",
    "[9] http://neupy.com/2016/12/17/hyperparameter_optimization_for_neural_networks.html\n",
    "\n",
    "\n",
    "\n",
    "\n",
    "\n",
    "\n",
    "\n"
   ],
   "metadata": {
    "collapsed": false
   }
  }
 ],
 "metadata": {
  "kernelspec": {
   "display_name": "Python 3",
   "language": "python",
   "name": "python3"
  },
  "language_info": {
   "codemirror_mode": {
    "name": "ipython",
    "version": 3
   },
   "file_extension": ".py",
   "mimetype": "text/x-python",
   "name": "python",
   "nbconvert_exporter": "python",
   "pygments_lexer": "ipython3",
   "version": "3.8.5"
  }
 },
 "nbformat": 4,
 "nbformat_minor": 1
}
