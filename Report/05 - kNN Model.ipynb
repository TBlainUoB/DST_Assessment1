{
 "cells": [
  {
   "cell_type": "markdown",
   "id": "9090e901",
   "metadata": {},
   "source": [
    "# kNN Model"
   ]
  },
  {
   "cell_type": "markdown",
   "id": "c7689d87",
   "metadata": {},
   "source": [
    "For this project, I have tested the performance of kNN with k = 1, 3, 5 on the training data set. It turns out it is not working really well on this data set, as the auc score is very close to 0.5 even with increasing of k, which means the predictions we get from the model is not much better than guessing. This is due to the imbalanced classes of target, this dataset has more than 96% of zeros in the targets."
   ]
  },
  {
   "cell_type": "markdown",
   "id": "4260bb3b",
   "metadata": {},
   "source": [
    "In my experiment I have tried the bagging and resampling strategies to impprove my kNN model, however kNN model is not very suitable for bagging and boosting, as it is too stable when k is bigger than 1, I have tried bagging with 1-NN model however it doesn't improve much. I have compared over-sampling and under-sampling, I found out under-sampling works a little bit better than oversampling, I think that this is because the size of our data set is huge, so lossing information is better than adding noise to our modelling."
   ]
  },
  {
   "cell_type": "markdown",
   "id": "6794b481",
   "metadata": {},
   "source": [
    "In this file, I will include my result of kNN models trainned on full train dataset and on the under-sampled train dataset."
   ]
  },
  {
   "cell_type": "code",
   "execution_count": 4,
   "id": "7e4c4de4",
   "metadata": {},
   "outputs": [],
   "source": [
    "import pandas as pd\n",
    "import numpy as np\n",
    "import math\n",
    "import matplotlib.pyplot as plt\n",
    "from sklearn.preprocessing import StandardScaler #for standardizing data\n",
    "from sklearn.neighbors import KNeighborsClassifier\n",
    "from sklearn.metrics import  roc_curve,auc\n",
    "from sklearn.model_selection import StratifiedKFold, train_test_split,cross_val_score,cross_val_predict\n",
    "from numba import jit\n",
    "import random"
   ]
  },
  {
   "cell_type": "code",
   "execution_count": 5,
   "id": "d654c299",
   "metadata": {},
   "outputs": [],
   "source": [
    "@jit\n",
    "def gini(y_true, y_prob):\n",
    "    y_true = np.asarray(y_true)\n",
    "    y_true = y_true[np.argsort(y_prob)]\n",
    "    ntrue = 0\n",
    "    gini = 0\n",
    "    delta = 0\n",
    "    n = len(y_true)\n",
    "    for i in range(n-1, -1, -1):\n",
    "        y_i = y_true[i]\n",
    "        ntrue += y_i\n",
    "        gini += y_i * delta\n",
    "        delta += 1 - y_i\n",
    "    gini = 1 - 2 * gini / (ntrue * (n - ntrue))\n",
    "    return gini"
   ]
  },
  {
   "cell_type": "markdown",
   "id": "11de066d",
   "metadata": {},
   "source": [
    "## Import the train and test data sets"
   ]
  },
  {
   "cell_type": "code",
   "execution_count": 31,
   "id": "7e60bb6b",
   "metadata": {},
   "outputs": [],
   "source": [
    "train = pd.read_csv('Dataset/ImputeTrain.csv')\n",
    "test = pd.read_csv('Dataset/ImputeTest.csv')"
   ]
  },
  {
   "cell_type": "code",
   "execution_count": 32,
   "id": "124f59d2",
   "metadata": {},
   "outputs": [
    {
     "data": {
      "text/plain": "0.9637216095553629"
     },
     "execution_count": 32,
     "metadata": {},
     "output_type": "execute_result"
    }
   ],
   "source": [
    "(train['target']==0).sum()/train.shape[0] #percentage of zeros in our labels"
   ]
  },
  {
   "cell_type": "markdown",
   "id": "848e01ed",
   "metadata": {},
   "source": [
    "## kNN models with full train data set"
   ]
  },
  {
   "cell_type": "code",
   "execution_count": 33,
   "id": "5070e9ee",
   "metadata": {},
   "outputs": [],
   "source": [
    "y_train = train['target'].values\n",
    "X_train = train.drop(['target', 'id'], axis=1)\n",
    "\n",
    "X_train = pd.DataFrame(X_train)\n",
    "y_train=y_train.ravel()\n",
    "#separate labels and other variables into X and y, drop 'id'"
   ]
  },
  {
   "cell_type": "code",
   "execution_count": 34,
   "id": "d5ef20bd",
   "metadata": {},
   "outputs": [],
   "source": [
    "scaler = StandardScaler()\n",
    "scaled_train0= scaler.fit_transform(X_train)\n",
    "X_train = pd.DataFrame(scaled_train0, columns=X_train.columns)\n",
    "#standardizng is necessary for kNN models"
   ]
  },
  {
   "cell_type": "code",
   "execution_count": 35,
   "id": "756aa6fb",
   "metadata": {},
   "outputs": [],
   "source": [
    "cv = StratifiedKFold(n_splits=5, random_state=0, shuffle=True)\n",
    "#define the cross validation that I am going to use is with k = 5\n",
    "knn_model1 = KNeighborsClassifier(n_neighbors=1)\n",
    "knn_model3 = KNeighborsClassifier(n_neighbors=3)\n",
    "knn_model5 = KNeighborsClassifier(n_neighbors=5)\n",
    "#define my models"
   ]
  },
  {
   "cell_type": "markdown",
   "id": "2a1605ec",
   "metadata": {},
   "source": [
    "#### Warning: The scores of 5-fold cross validation with full train set takes a long time to run,  you can choose to read the cvs file instead."
   ]
  },
  {
   "cell_type": "code",
   "execution_count": null,
   "id": "f34e042e",
   "metadata": {},
   "outputs": [],
   "source": [
    "scores = []\n",
    "scores1 = cross_val_score(knn_model1, X_train, y_train, scoring='roc_auc', cv=cv, n_jobs=-1)\n",
    "scores.append(scores1)"
   ]
  },
  {
   "cell_type": "code",
   "execution_count": null,
   "id": "2322d00e",
   "metadata": {},
   "outputs": [],
   "source": [
    "scores3 = cross_val_score(knn_model3, X_train, y_train, scoring='roc_auc', cv=cv, n_jobs=-1)\n",
    "scores.append(scores3)"
   ]
  },
  {
   "cell_type": "code",
   "execution_count": null,
   "id": "f1ef1416",
   "metadata": {},
   "outputs": [],
   "source": [
    "scores5 = cross_val_score(knn_model5, X_train, y_train, scoring='roc_auc', cv=cv, n_jobs=-1)\n",
    "scores.append(scores5)"
   ]
  },
  {
   "cell_type": "code",
   "execution_count": null,
   "id": "9ab7c620",
   "metadata": {},
   "outputs": [],
   "source": [
    "auc_full = pd.DataFrame(scores,columns=['1st_fold', '2nd_fold', '3rd_fold','4th_fold','5th_fold'])\n",
    "#turn the arrays of scores into dataframe\n",
    "auc_full.to_csv('csv_files/auc_full_training_set.csv', index = False)\n",
    "#save dataframe as csv"
   ]
  },
  {
   "cell_type": "markdown",
   "id": "713a8254",
   "metadata": {},
   "source": [
    "You can choose to read the csv file that I have saved by running the code below."
   ]
  },
  {
   "cell_type": "code",
   "execution_count": 36,
   "id": "56654ef9",
   "metadata": {},
   "outputs": [],
   "source": [
    "auc_full = pd.read_csv('csv_files/auc_full_training_set.csv')\n",
    "#read the csv file saved"
   ]
  },
  {
   "cell_type": "code",
   "execution_count": 37,
   "id": "0b5180ed",
   "metadata": {},
   "outputs": [
    {
     "data": {
      "text/plain": "<Figure size 648x432 with 1 Axes>",
      "image/png": "[encoded data removed]"
     },
     "metadata": {
      "needs_background": "light"
     },
     "output_type": "display_data"
    }
   ],
   "source": [
    "plt.figure(figsize=(9,6))\n",
    "x = [1,2,3,4,5]\n",
    "y1 = auc_full.iloc[0].ravel()\n",
    "y2 = auc_full.iloc[1].ravel()\n",
    "y3 = auc_full.iloc[2].ravel()\n",
    "plt.plot(x, y1)\n",
    "plt.plot(x, y2)\n",
    "plt.plot(x, y3)\n",
    "plt.legend(['1NN model','3NN model','5NN model'])\n",
    "plt.title ('5-fold cross validation for kNN model on full training data set')\n",
    "plt.xlabel(\"xth fold\", fontsize = 18)\n",
    "plt.ylabel(\"auc score\", fontsize = 18)\n",
    "plt.tick_params(labelsize = 16)\n",
    "\n",
    "plt.show()\n",
    "#plot of the auc score for kNN model with full train data set with k = 1,3,5"
   ]
  },
  {
   "cell_type": "markdown",
   "id": "8c8f5107",
   "metadata": {},
   "source": [
    "We can see that although increasing the number of k for our kNN model do improve the auc scores, but it is insignificant."
   ]
  },
  {
   "cell_type": "markdown",
   "id": "51e645ae",
   "metadata": {},
   "source": [
    "## kNN models with under sampled train set\n",
    "This section includes my coding for performing under sampling, and model performance on a under-sampled training data set."
   ]
  },
  {
   "cell_type": "code",
   "execution_count": 38,
   "id": "3cc68878",
   "metadata": {},
   "outputs": [],
   "source": [
    "train = pd.read_csv('Dataset/imputetrain.csv')\n",
    "#import the train data set again, because we want to under sampling our train data before standardizing"
   ]
  },
  {
   "cell_type": "code",
   "execution_count": 39,
   "id": "b6c57568",
   "metadata": {},
   "outputs": [],
   "source": [
    "count_class_0, count_class_1 = train.target.value_counts()\n",
    "#count number of zeros and ones in our targets\n",
    "df_class_0 = train[train['target'] == 0]\n",
    "df_class_1 = train[train['target'] == 1]\n",
    "#separate train data set into the data with targets one and data with targets zero"
   ]
  },
  {
   "cell_type": "code",
   "execution_count": 40,
   "id": "4ea1f981",
   "metadata": {},
   "outputs": [],
   "source": [
    "random.seed(10) #make sure the sampling result is the same, hence all the prediction and auc scores will be the same everytime we run the code\n",
    "df_class_0_under = df_class_0.sample(count_class_1)\n",
    "#simple the number of zeros is more than number of ones, we randomly sample the data with targets zero, so that we have the same number of zeros and ones in our train data set\n",
    "train_under = pd.concat([df_class_0_under, df_class_1], axis=0)\n",
    "#combine the data set with targets one and the undersampled data set with targets zero together, this is our undersampled train data set"
   ]
  },
  {
   "cell_type": "code",
   "execution_count": 41,
   "id": "2166d77c",
   "metadata": {},
   "outputs": [],
   "source": [
    "y_train_under = train_under['target'].values\n",
    "X_train_under = train_under.drop(['target', 'id'], axis=1)\n",
    "\n",
    "X_train_under = pd.DataFrame(X_train_under)\n",
    "y_train_under=y_train_under.ravel()\n",
    "#similarly, separate labels and other variables into X and y, drop 'id'"
   ]
  },
  {
   "cell_type": "code",
   "execution_count": 42,
   "id": "00c8a904",
   "metadata": {},
   "outputs": [],
   "source": [
    "scaler = StandardScaler()\n",
    "scaled_train0= scaler.fit_transform(X_train_under)\n",
    "X_train_under = pd.DataFrame(scaled_train0, columns=X_train_under.columns)\n",
    "#standardize our undersampled train data set"
   ]
  },
  {
   "cell_type": "code",
   "execution_count": 43,
   "id": "9785ed7d",
   "metadata": {},
   "outputs": [
    {
     "name": "stdout",
     "output_type": "stream",
     "text": [
      "Random under-sampling:\n",
      "1    16195\n",
      "0    16195\n",
      "Name: target, dtype: int64\n"
     ]
    },
    {
     "data": {
      "text/plain": "<AxesSubplot:title={'center':'Count (target)'}>"
     },
     "execution_count": 43,
     "metadata": {},
     "output_type": "execute_result"
    },
    {
     "data": {
      "text/plain": "<Figure size 432x288 with 1 Axes>",
      "image/png": "[encoded data removed]"
     },
     "metadata": {
      "needs_background": "light"
     },
     "output_type": "display_data"
    }
   ],
   "source": [
    "print('Random under-sampling:')\n",
    "print(train_under.target.value_counts())\n",
    "\n",
    "train_under.target.value_counts().plot(kind='bar', title='Count (target)')\n",
    "#from the plot below, we can see that in our undersampled train data set we have same number of samples with targets zero and with targets one"
   ]
  },
  {
   "cell_type": "markdown",
   "source": [],
   "metadata": {
    "collapsed": false
   }
  },
  {
   "cell_type": "markdown",
   "source": [
    "Warning: following takes a long time to run, you can choose to load the csv below instead"
   ],
   "metadata": {
    "collapsed": false
   }
  },
  {
   "cell_type": "code",
   "execution_count": null,
   "id": "4b89046a",
   "metadata": {},
   "outputs": [],
   "source": [
    "scores = []\n",
    "under_scores1 = cross_val_score(knn_model1, X_train_under, y_train_under, scoring='roc_auc', cv=cv, n_jobs=-1)\n",
    "print(under_scores1)\n",
    "scores.append(under_scores1)"
   ]
  },
  {
   "cell_type": "code",
   "execution_count": null,
   "id": "f34c4d74",
   "metadata": {},
   "outputs": [],
   "source": [
    "under_scores3 = cross_val_score(knn_model3, X_train_under, y_train_under, scoring='roc_auc', cv=cv, n_jobs=-1)\n",
    "print(under_scores3)\n",
    "scores.append(under_scores3)"
   ]
  },
  {
   "cell_type": "code",
   "execution_count": null,
   "id": "8e507217",
   "metadata": {},
   "outputs": [],
   "source": [
    "under_scores5 = cross_val_score(knn_model5, X_train_under, y_train_under, scoring='roc_auc', cv=cv, n_jobs=-1)\n",
    "print(under_scores5)\n",
    "scores.append(under_scores5)"
   ]
  },
  {
   "cell_type": "code",
   "execution_count": null,
   "id": "33c498d1",
   "metadata": {},
   "outputs": [],
   "source": [
    "print(scores)\n",
    "#train the kNN models with undersampled train data set, and collect the auc score"
   ]
  },
  {
   "cell_type": "code",
   "execution_count": null,
   "id": "293cd96f",
   "metadata": {},
   "outputs": [],
   "source": [
    "auc_under = pd.DataFrame(scores,columns=['1st_fold', '2nd_fold', '3rd_fold','4th_fold','5th_fold'])\n",
    "auc_under.to_csv('csv_files/auc_under_sampled_training_set.csv', index = False)\n",
    "#turn the auc scores into data frame and save it as a csv file"
   ]
  },
  {
   "cell_type": "markdown",
   "source": [
    "If you did not run the code above, load results from csv"
   ],
   "metadata": {
    "collapsed": false
   }
  },
  {
   "cell_type": "code",
   "execution_count": 44,
   "outputs": [],
   "source": [
    "auc_under = pd.read_csv('csv_files/auc_under_sampled_training_set.csv')\n",
    "#read the csv file saved"
   ],
   "metadata": {
    "collapsed": false
   }
  },
  {
   "cell_type": "code",
   "execution_count": 45,
   "id": "6b478d63",
   "metadata": {},
   "outputs": [
    {
     "data": {
      "text/plain": "<Figure size 648x432 with 1 Axes>",
      "image/png": "[encoded data removed]"
     },
     "metadata": {
      "needs_background": "light"
     },
     "output_type": "display_data"
    }
   ],
   "source": [
    "plt.figure(figsize=(9,6))\n",
    "x = [1,2,3,4,5]\n",
    "y1 = auc_under.iloc[0].ravel()\n",
    "y2 = auc_under.iloc[1].ravel()\n",
    "y3 = auc_under.iloc[2].ravel()\n",
    "plt.plot(x, y1)\n",
    "plt.plot(x, y2)\n",
    "plt.plot(x, y3)\n",
    "plt.legend(['1NN model','3NN model','5NN model'])\n",
    "plt.title ('5-fold cross validation for kNN model on under-sampled training data set')\n",
    "plt.xlabel(\"xth fold\", fontsize = 18)\n",
    "plt.ylabel(\"auc score\", fontsize = 18)\n",
    "plt.tick_params(labelsize = 16)\n",
    "\n",
    "plt.show()\n",
    "#plot of the auc score for kNN model with undersampled train data set with k = 1,3,5"
   ]
  },
  {
   "cell_type": "markdown",
   "id": "330839ad",
   "metadata": {},
   "source": [
    "## Conclusion"
   ]
  },
  {
   "cell_type": "code",
   "execution_count": 46,
   "id": "60c64446",
   "metadata": {},
   "outputs": [],
   "source": [
    "X_test = test.drop(['target','id'], axis=1)\n",
    "X_test = pd.DataFrame(X_test)\n",
    "y_test = test['target'].values\n",
    "\n",
    "scaler = StandardScaler()\n",
    "scaled_test0 = scaler.fit_transform(X_test)\n",
    "X_test = pd.DataFrame(scaled_test0, columns=X_test.columns)\n",
    "#separate X and y for our test data set, standardize the X for kNN model to make prediction"
   ]
  },
  {
   "cell_type": "code",
   "execution_count": 47,
   "id": "b96fed28",
   "metadata": {},
   "outputs": [
    {
     "ename": "AttributeError",
     "evalue": "'numpy.ndarray' object has no attribute 'to_csv'",
     "output_type": "error",
     "traceback": [
      "\u001B[1;31m---------------------------------------------------------------------------\u001B[0m",
      "\u001B[1;31mAttributeError\u001B[0m                            Traceback (most recent call last)",
      "\u001B[1;32m<ipython-input-47-0454fc21c0c3>\u001B[0m in \u001B[0;36m<module>\u001B[1;34m\u001B[0m\n\u001B[0;32m      2\u001B[0m \u001B[0munder_kNNmodel_5\u001B[0m\u001B[1;33m.\u001B[0m\u001B[0mfit\u001B[0m\u001B[1;33m(\u001B[0m\u001B[0mX_train_under\u001B[0m\u001B[1;33m,\u001B[0m\u001B[0my_train_under\u001B[0m\u001B[1;33m)\u001B[0m\u001B[1;33m\u001B[0m\u001B[1;33m\u001B[0m\u001B[0m\n\u001B[0;32m      3\u001B[0m \u001B[0my_predicts\u001B[0m \u001B[1;33m=\u001B[0m \u001B[0munder_kNNmodel_5\u001B[0m\u001B[1;33m.\u001B[0m\u001B[0mpredict_proba\u001B[0m\u001B[1;33m(\u001B[0m\u001B[0mX_test\u001B[0m\u001B[1;33m)\u001B[0m\u001B[1;33m\u001B[0m\u001B[1;33m\u001B[0m\u001B[0m\n\u001B[1;32m----> 4\u001B[1;33m \u001B[0my_predicts\u001B[0m\u001B[1;33m.\u001B[0m\u001B[0mto_csv\u001B[0m\u001B[1;33m(\u001B[0m\u001B[1;34m'Results/knns.csv'\u001B[0m\u001B[1;33m)\u001B[0m\u001B[1;33m\u001B[0m\u001B[1;33m\u001B[0m\u001B[0m\n\u001B[0m\u001B[0;32m      5\u001B[0m \u001B[0mgini_score\u001B[0m \u001B[1;33m=\u001B[0m \u001B[0mgini\u001B[0m\u001B[1;33m(\u001B[0m\u001B[0my_test\u001B[0m\u001B[1;33m,\u001B[0m\u001B[0my_predicts\u001B[0m\u001B[1;33m[\u001B[0m\u001B[1;34m'1'\u001B[0m\u001B[1;33m]\u001B[0m\u001B[1;33m)\u001B[0m\u001B[1;33m\u001B[0m\u001B[1;33m\u001B[0m\u001B[0m\n\u001B[0;32m      6\u001B[0m \u001B[1;31m#for a gini score, we inout the probabilities of predicting one for each test sample, so we need to use .predict_proba, and it will be the second column of the outputs\u001B[0m\u001B[1;33m\u001B[0m\u001B[1;33m\u001B[0m\u001B[1;33m\u001B[0m\u001B[0m\n",
      "\u001B[1;31mAttributeError\u001B[0m: 'numpy.ndarray' object has no attribute 'to_csv'"
     ]
    }
   ],
   "source": [
    "under_kNNmodel_5 = KNeighborsClassifier(n_neighbors=5)\n",
    "under_kNNmodel_5.fit(X_train_under,y_train_under)\n",
    "y_predicts = under_kNNmodel_5.predict_proba(X_test)\n",
    "y_predicts.to_csv('Results/knns.csv')\n",
    "gini_score = gini(y_test,y_predicts['1'])\n",
    "#for a gini score, we inout the probabilities of predicting one for each test sample, so we need to use .predict_proba, and it will be the second column of the outputs\n",
    "print(gini_score)\n",
    "#so this is the gini score for my submission model on the test data"
   ]
  },
  {
   "cell_type": "code",
   "execution_count": null,
   "id": "85cbcc51",
   "metadata": {},
   "outputs": [],
   "source": [
    "fpr, tpr, threshold = roc_curve(y_test,under_kNNmodel_5.predict(X_test))\n",
    "auc_score = auc(fpr, tpr)\n",
    "print(auc_score)\n",
    "#calculate the auc score on the test data"
   ]
  },
  {
   "cell_type": "markdown",
   "id": "6384932f",
   "metadata": {},
   "source": [
    "The model above is my chosen submission model, kNN model with k=5, trained with under sampled data set, such that we have balanced amount of zeros and ones in our train data. Although the performance is still not great."
   ]
  }
 ],
 "metadata": {
  "kernelspec": {
   "display_name": "Python 3 (ipykernel)",
   "language": "python",
   "name": "python3"
  },
  "language_info": {
   "codemirror_mode": {
    "name": "ipython",
    "version": 3
   },
   "file_extension": ".py",
   "mimetype": "text/x-python",
   "name": "python",
   "nbconvert_exporter": "python",
   "pygments_lexer": "ipython3",
   "version": "3.9.12"
  }
 },
 "nbformat": 4,
 "nbformat_minor": 5
}
